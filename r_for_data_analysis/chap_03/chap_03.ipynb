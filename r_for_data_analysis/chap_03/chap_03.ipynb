{
 "cells": [
  {
   "cell_type": "markdown",
   "id": "ef64d51a-a8ae-436f-90c2-c79777bcbcce",
   "metadata": {},
   "source": [
    "# Manipulação de dados\n",
    "\n",
    "Pacotes necessários:\n",
    "- `magrittr`\n",
    "- `ggplot2`"
   ]
  },
  {
   "cell_type": "code",
   "execution_count": 1,
   "id": "a0d4d198-b99d-4c06-a4c1-e658a7069963",
   "metadata": {},
   "outputs": [],
   "source": [
    "# Pacotes necessários\n",
    "library(magrittr)\n",
    "library(ggplot2)"
   ]
  },
  {
   "cell_type": "code",
   "execution_count": 2,
   "id": "c3768ced-b97b-4377-99eb-cfb5ded8b8b6",
   "metadata": {},
   "outputs": [],
   "source": [
    "# Pacote de exemplos\n",
    "library(datasets)"
   ]
  },
  {
   "cell_type": "markdown",
   "id": "b64d5f04-bd58-40d4-9e51-8b3e2d899a83",
   "metadata": {},
   "source": [
    "Como exemplo, utilizamos o _dataset_ `cars` do pacote `datasets`. Esse _dataset_ consiste em duas colunas: velocidade e distância de parada de carros."
   ]
  },
  {
   "cell_type": "code",
   "execution_count": 3,
   "id": "c3196c30-9ae2-4982-80f9-c4e0bca44b8e",
   "metadata": {},
   "outputs": [
    {
     "data": {
      "text/html": [
       "<table class=\"dataframe\">\n",
       "<caption>A data.frame: 6 × 2</caption>\n",
       "<thead>\n",
       "\t<tr><th></th><th scope=col>speed</th><th scope=col>dist</th></tr>\n",
       "\t<tr><th></th><th scope=col>&lt;dbl&gt;</th><th scope=col>&lt;dbl&gt;</th></tr>\n",
       "</thead>\n",
       "<tbody>\n",
       "\t<tr><th scope=row>1</th><td>4</td><td> 2</td></tr>\n",
       "\t<tr><th scope=row>2</th><td>4</td><td>10</td></tr>\n",
       "\t<tr><th scope=row>3</th><td>7</td><td> 4</td></tr>\n",
       "\t<tr><th scope=row>4</th><td>7</td><td>22</td></tr>\n",
       "\t<tr><th scope=row>5</th><td>8</td><td>16</td></tr>\n",
       "\t<tr><th scope=row>6</th><td>9</td><td>10</td></tr>\n",
       "</tbody>\n",
       "</table>\n"
      ],
      "text/latex": [
       "A data.frame: 6 × 2\n",
       "\\begin{tabular}{r|ll}\n",
       "  & speed & dist\\\\\n",
       "  & <dbl> & <dbl>\\\\\n",
       "\\hline\n",
       "\t1 & 4 &  2\\\\\n",
       "\t2 & 4 & 10\\\\\n",
       "\t3 & 7 &  4\\\\\n",
       "\t4 & 7 & 22\\\\\n",
       "\t5 & 8 & 16\\\\\n",
       "\t6 & 9 & 10\\\\\n",
       "\\end{tabular}\n"
      ],
      "text/markdown": [
       "\n",
       "A data.frame: 6 × 2\n",
       "\n",
       "| <!--/--> | speed &lt;dbl&gt; | dist &lt;dbl&gt; |\n",
       "|---|---|---|\n",
       "| 1 | 4 |  2 |\n",
       "| 2 | 4 | 10 |\n",
       "| 3 | 7 |  4 |\n",
       "| 4 | 7 | 22 |\n",
       "| 5 | 8 | 16 |\n",
       "| 6 | 9 | 10 |\n",
       "\n"
      ],
      "text/plain": [
       "  speed dist\n",
       "1 4      2  \n",
       "2 4     10  \n",
       "3 7      4  \n",
       "4 7     22  \n",
       "5 8     16  \n",
       "6 9     10  "
      ]
     },
     "metadata": {},
     "output_type": "display_data"
    }
   ],
   "source": [
    "data(cars)\n",
    "head(cars)"
   ]
  },
  {
   "cell_type": "code",
   "execution_count": null,
   "id": "6c36d006-f9c6-4cad-9fe7-b0ce5a2c7e41",
   "metadata": {},
   "outputs": [],
   "source": []
  }
 ],
 "metadata": {
  "kernelspec": {
   "display_name": "R",
   "language": "R",
   "name": "ir"
  },
  "language_info": {
   "codemirror_mode": "r",
   "file_extension": ".r",
   "mimetype": "text/x-r-source",
   "name": "R",
   "pygments_lexer": "r",
   "version": "4.1.1"
  }
 },
 "nbformat": 4,
 "nbformat_minor": 5
}
