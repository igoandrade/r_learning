{
 "cells": [
  {
   "cell_type": "markdown",
   "id": "cef72431-7efb-4257-990f-6efb0d8e641b",
   "metadata": {},
   "source": [
    "# Introdução ao R"
   ]
  },
  {
   "cell_type": "code",
   "execution_count": 1,
   "id": "63a36ca9-bd8e-4733-a1c8-dd2d2f8774a6",
   "metadata": {},
   "outputs": [],
   "source": [
    "# Bibliotecas\n",
    "# install.packages(\"magrittr\")\n",
    "library(magrittr)"
   ]
  },
  {
   "cell_type": "markdown",
   "id": "c6967bdc-84e7-4b0a-91aa-1232c23e7259",
   "metadata": {},
   "source": [
    "## Exercícios"
   ]
  },
  {
   "cell_type": "markdown",
   "id": "832b0abd-e286-4ceb-9cba-5987d6fa4cd4",
   "metadata": {},
   "source": [
    "### Média de valores positivos\n",
    "\n",
    "Você pode simular valores de uma distribuição normal usando a função `rnorm()`. Seu primeiro argumento é o npumero de amostras que você deseja, e se você não especificar outros valores, obterá uma distribuição do tipo N(0,1).\n",
    "\n",
    "Escreva um _pipeline_ que recebe amostras desta função como _input_ , remove os valores negaticos, e calcula a média do restante. __Dica:__ Um modo de remover valores é substituí-los com valores faltantes (`NA`); se um vetor tem valores faltantes, a função média (`mean()`) pode ignorar se você informa a opçãp `na.rm = TRUE`. "
   ]
  },
  {
   "cell_type": "code",
   "execution_count": 3,
   "id": "87baf2ab-0e19-480a-abe3-6e6391c15538",
   "metadata": {},
   "outputs": [
    {
     "data": {
      "text/html": [
       "0.783758039846014"
      ],
      "text/latex": [
       "0.783758039846014"
      ],
      "text/markdown": [
       "0.783758039846014"
      ],
      "text/plain": [
       "[1] 0.783758"
      ]
     },
     "metadata": {},
     "output_type": "display_data"
    }
   ],
   "source": [
    "rnorm(100) %>% ifelse(. >= 0, . , NA) %>% mean(., na.rm=TRUE)"
   ]
  },
  {
   "cell_type": "markdown",
   "id": "6d5d7553-0853-4fb8-a8ff-6a35631bc40a",
   "metadata": {},
   "source": [
    "### Erro Médio Quadrático\n",
    "\n",
    "Se você tem valores \"true\", $t = (t_1, \\cdots, t_n)$ e valores \"preditos\" $y = (y_1, \\cdots, y_n)$, então o erro médio quadrático é definido como  $$RMSE(t,y) = \\sqrt{\\dfrac{1}{n} \\sum_{i = 1}^n \\left(t_i - y_i\\right)^2}.$$\n",
    "\n",
    "Escreva um _pipeline_ que computa isto de um data frame contendo os valores $t$ e $y$. Lembre-e que você pode fazer isto computando a diferença quadrática em uma expressão, então compute a média no próximo passo, e finalemente compute a rais quadrada. A função R para calcular a raiz quadrada é `sqrt()`. "
   ]
  },
  {
   "cell_type": "code",
   "execution_count": 27,
   "id": "e6510504-c67f-42b2-af84-380541b492d4",
   "metadata": {},
   "outputs": [
    {
     "data": {
      "text/html": [
       "<table class=\"dataframe\">\n",
       "<caption>A data.frame: 5 × 2</caption>\n",
       "<thead>\n",
       "\t<tr><th scope=col>t</th><th scope=col>y</th></tr>\n",
       "\t<tr><th scope=col>&lt;dbl&gt;</th><th scope=col>&lt;dbl&gt;</th></tr>\n",
       "</thead>\n",
       "<tbody>\n",
       "\t<tr><td>-1.3696636</td><td>-1.4066637</td></tr>\n",
       "\t<tr><td> 0.5527160</td><td> 0.3961540</td></tr>\n",
       "\t<tr><td> 0.8503276</td><td> 0.7429353</td></tr>\n",
       "\t<tr><td>-0.4365095</td><td>-0.3567606</td></tr>\n",
       "\t<tr><td>-0.8741314</td><td>-0.5449399</td></tr>\n",
       "</tbody>\n",
       "</table>\n"
      ],
      "text/latex": [
       "A data.frame: 5 × 2\n",
       "\\begin{tabular}{ll}\n",
       " t & y\\\\\n",
       " <dbl> & <dbl>\\\\\n",
       "\\hline\n",
       "\t -1.3696636 & -1.4066637\\\\\n",
       "\t  0.5527160 &  0.3961540\\\\\n",
       "\t  0.8503276 &  0.7429353\\\\\n",
       "\t -0.4365095 & -0.3567606\\\\\n",
       "\t -0.8741314 & -0.5449399\\\\\n",
       "\\end{tabular}\n"
      ],
      "text/markdown": [
       "\n",
       "A data.frame: 5 × 2\n",
       "\n",
       "| t &lt;dbl&gt; | y &lt;dbl&gt; |\n",
       "|---|---|\n",
       "| -1.3696636 | -1.4066637 |\n",
       "|  0.5527160 |  0.3961540 |\n",
       "|  0.8503276 |  0.7429353 |\n",
       "| -0.4365095 | -0.3567606 |\n",
       "| -0.8741314 | -0.5449399 |\n",
       "\n"
      ],
      "text/plain": [
       "  t          y         \n",
       "1 -1.3696636 -1.4066637\n",
       "2  0.5527160  0.3961540\n",
       "3  0.8503276  0.7429353\n",
       "4 -0.4365095 -0.3567606\n",
       "5 -0.8741314 -0.5449399"
      ]
     },
     "metadata": {},
     "output_type": "display_data"
    }
   ],
   "source": [
    "n <- 5\n",
    "t <- rnorm(n)\n",
    "y <- t + rnorm(n)/n\n",
    "df <- data.frame(t,y)\n",
    "df"
   ]
  },
  {
   "cell_type": "code",
   "execution_count": 28,
   "id": "830f8d7b-03b5-4f25-a43a-6adde883a36f",
   "metadata": {},
   "outputs": [
    {
     "data": {
      "text/html": [
       "0.174436659305921"
      ],
      "text/latex": [
       "0.174436659305921"
      ],
      "text/markdown": [
       "0.174436659305921"
      ],
      "text/plain": [
       "[1] 0.1744367"
      ]
     },
     "metadata": {},
     "output_type": "display_data"
    }
   ],
   "source": [
    "df %>% {(.$t - .$y)^2} %>% mean %>% sqrt"
   ]
  },
  {
   "cell_type": "code",
   "execution_count": null,
   "id": "3083089c-39cd-4269-a903-f4230899f2e6",
   "metadata": {},
   "outputs": [],
   "source": []
  }
 ],
 "metadata": {
  "kernelspec": {
   "display_name": "R",
   "language": "R",
   "name": "ir"
  },
  "language_info": {
   "codemirror_mode": "r",
   "file_extension": ".r",
   "mimetype": "text/x-r-source",
   "name": "R",
   "pygments_lexer": "r",
   "version": "4.1.1"
  }
 },
 "nbformat": 4,
 "nbformat_minor": 5
}
