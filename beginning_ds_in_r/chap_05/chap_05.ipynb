{
 "cells": [
  {
   "cell_type": "markdown",
   "id": "5a120c9b-0622-45ad-aca5-ae609a4bcf42",
   "metadata": {},
   "source": [
    "# Working with Large Datasets"
   ]
  },
  {
   "cell_type": "code",
   "execution_count": null,
   "id": "9cdb0ea5-f3b3-4753-9a6c-3993fff6fd9f",
   "metadata": {},
   "outputs": [],
   "source": []
  }
 ],
 "metadata": {
  "kernelspec": {
   "display_name": "R",
   "language": "R",
   "name": "ir"
  },
  "language_info": {
   "codemirror_mode": "r",
   "file_extension": ".r",
   "mimetype": "text/x-r-source",
   "name": "R",
   "pygments_lexer": "r",
   "version": "4.1.2"
  }
 },
 "nbformat": 4,
 "nbformat_minor": 5
}
