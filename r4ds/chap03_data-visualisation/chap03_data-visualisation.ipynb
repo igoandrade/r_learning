{
 "cells": [
  {
   "cell_type": "markdown",
   "id": "c1cbe571-11ea-4650-a9bc-55ceba0d106f",
   "metadata": {},
   "source": [
    "# Visualização de Dados"
   ]
  },
  {
   "cell_type": "code",
   "execution_count": 1,
   "id": "342c6bf8-8884-4aa5-835d-b4a165e82091",
   "metadata": {},
   "outputs": [
    {
     "name": "stderr",
     "output_type": "stream",
     "text": [
      "── \u001b[1mAttaching packages\u001b[22m ────────────────────────────────────────────────────────────────── tidyverse 1.3.1 ──\n",
      "\n",
      "\u001b[32m✔\u001b[39m \u001b[34mggplot2\u001b[39m 3.3.5     \u001b[32m✔\u001b[39m \u001b[34mpurrr  \u001b[39m 0.3.4\n",
      "\u001b[32m✔\u001b[39m \u001b[34mtibble \u001b[39m 3.1.6     \u001b[32m✔\u001b[39m \u001b[34mdplyr  \u001b[39m 1.0.7\n",
      "\u001b[32m✔\u001b[39m \u001b[34mtidyr  \u001b[39m 1.1.4     \u001b[32m✔\u001b[39m \u001b[34mstringr\u001b[39m 1.4.0\n",
      "\u001b[32m✔\u001b[39m \u001b[34mreadr  \u001b[39m 2.0.2     \u001b[32m✔\u001b[39m \u001b[34mforcats\u001b[39m 0.5.1\n",
      "\n",
      "── \u001b[1mConflicts\u001b[22m ───────────────────────────────────────────────────────────────────── tidyverse_conflicts() ──\n",
      "\u001b[31m✖\u001b[39m \u001b[34mdplyr\u001b[39m::\u001b[32mfilter()\u001b[39m masks \u001b[34mstats\u001b[39m::filter()\n",
      "\u001b[31m✖\u001b[39m \u001b[34mdplyr\u001b[39m::\u001b[32mlag()\u001b[39m    masks \u001b[34mstats\u001b[39m::lag()\n",
      "\n"
     ]
    }
   ],
   "source": [
    "# Pacotes importados\n",
    "library(tidyverse)"
   ]
  },
  {
   "cell_type": "markdown",
   "id": "971bc79c-d312-493f-823f-bed2b9d166b7",
   "metadata": {},
   "source": [
    "## Primeiros passos"
   ]
  },
  {
   "cell_type": "markdown",
   "id": "2e32b205-ea8f-4a19-a959-7e8378c63740",
   "metadata": {},
   "source": [
    "### Problema de análise\n",
    "\n",
    "    Carros com motores grandes usam mais combustível do que carros com motores pequenos?"
   ]
  },
  {
   "cell_type": "markdown",
   "id": "85555754-dfe4-4d79-b2a4-3a2b8b440862",
   "metadata": {},
   "source": [
    "### O _dataframe_ `mpg` "
   ]
  },
  {
   "cell_type": "code",
   "execution_count": 2,
   "id": "cee4028e-83c7-431e-9870-f6a1446ce52a",
   "metadata": {},
   "outputs": [
    {
     "data": {
      "text/html": [
       "<table class=\"dataframe\">\n",
       "<caption>A tibble: 6 × 11</caption>\n",
       "<thead>\n",
       "\t<tr><th scope=col>manufacturer</th><th scope=col>model</th><th scope=col>displ</th><th scope=col>year</th><th scope=col>cyl</th><th scope=col>trans</th><th scope=col>drv</th><th scope=col>cty</th><th scope=col>hwy</th><th scope=col>fl</th><th scope=col>class</th></tr>\n",
       "\t<tr><th scope=col>&lt;chr&gt;</th><th scope=col>&lt;chr&gt;</th><th scope=col>&lt;dbl&gt;</th><th scope=col>&lt;int&gt;</th><th scope=col>&lt;int&gt;</th><th scope=col>&lt;chr&gt;</th><th scope=col>&lt;chr&gt;</th><th scope=col>&lt;int&gt;</th><th scope=col>&lt;int&gt;</th><th scope=col>&lt;chr&gt;</th><th scope=col>&lt;chr&gt;</th></tr>\n",
       "</thead>\n",
       "<tbody>\n",
       "\t<tr><td>audi</td><td>a4</td><td>1.8</td><td>1999</td><td>4</td><td>auto(l5)  </td><td>f</td><td>18</td><td>29</td><td>p</td><td>compact</td></tr>\n",
       "\t<tr><td>audi</td><td>a4</td><td>1.8</td><td>1999</td><td>4</td><td>manual(m5)</td><td>f</td><td>21</td><td>29</td><td>p</td><td>compact</td></tr>\n",
       "\t<tr><td>audi</td><td>a4</td><td>2.0</td><td>2008</td><td>4</td><td>manual(m6)</td><td>f</td><td>20</td><td>31</td><td>p</td><td>compact</td></tr>\n",
       "\t<tr><td>audi</td><td>a4</td><td>2.0</td><td>2008</td><td>4</td><td>auto(av)  </td><td>f</td><td>21</td><td>30</td><td>p</td><td>compact</td></tr>\n",
       "\t<tr><td>audi</td><td>a4</td><td>2.8</td><td>1999</td><td>6</td><td>auto(l5)  </td><td>f</td><td>16</td><td>26</td><td>p</td><td>compact</td></tr>\n",
       "\t<tr><td>audi</td><td>a4</td><td>2.8</td><td>1999</td><td>6</td><td>manual(m5)</td><td>f</td><td>18</td><td>26</td><td>p</td><td>compact</td></tr>\n",
       "</tbody>\n",
       "</table>\n"
      ],
      "text/latex": [
       "A tibble: 6 × 11\n",
       "\\begin{tabular}{lllllllllll}\n",
       " manufacturer & model & displ & year & cyl & trans & drv & cty & hwy & fl & class\\\\\n",
       " <chr> & <chr> & <dbl> & <int> & <int> & <chr> & <chr> & <int> & <int> & <chr> & <chr>\\\\\n",
       "\\hline\n",
       "\t audi & a4 & 1.8 & 1999 & 4 & auto(l5)   & f & 18 & 29 & p & compact\\\\\n",
       "\t audi & a4 & 1.8 & 1999 & 4 & manual(m5) & f & 21 & 29 & p & compact\\\\\n",
       "\t audi & a4 & 2.0 & 2008 & 4 & manual(m6) & f & 20 & 31 & p & compact\\\\\n",
       "\t audi & a4 & 2.0 & 2008 & 4 & auto(av)   & f & 21 & 30 & p & compact\\\\\n",
       "\t audi & a4 & 2.8 & 1999 & 6 & auto(l5)   & f & 16 & 26 & p & compact\\\\\n",
       "\t audi & a4 & 2.8 & 1999 & 6 & manual(m5) & f & 18 & 26 & p & compact\\\\\n",
       "\\end{tabular}\n"
      ],
      "text/markdown": [
       "\n",
       "A tibble: 6 × 11\n",
       "\n",
       "| manufacturer &lt;chr&gt; | model &lt;chr&gt; | displ &lt;dbl&gt; | year &lt;int&gt; | cyl &lt;int&gt; | trans &lt;chr&gt; | drv &lt;chr&gt; | cty &lt;int&gt; | hwy &lt;int&gt; | fl &lt;chr&gt; | class &lt;chr&gt; |\n",
       "|---|---|---|---|---|---|---|---|---|---|---|\n",
       "| audi | a4 | 1.8 | 1999 | 4 | auto(l5)   | f | 18 | 29 | p | compact |\n",
       "| audi | a4 | 1.8 | 1999 | 4 | manual(m5) | f | 21 | 29 | p | compact |\n",
       "| audi | a4 | 2.0 | 2008 | 4 | manual(m6) | f | 20 | 31 | p | compact |\n",
       "| audi | a4 | 2.0 | 2008 | 4 | auto(av)   | f | 21 | 30 | p | compact |\n",
       "| audi | a4 | 2.8 | 1999 | 6 | auto(l5)   | f | 16 | 26 | p | compact |\n",
       "| audi | a4 | 2.8 | 1999 | 6 | manual(m5) | f | 18 | 26 | p | compact |\n",
       "\n"
      ],
      "text/plain": [
       "  manufacturer model displ year cyl trans      drv cty hwy fl class  \n",
       "1 audi         a4    1.8   1999 4   auto(l5)   f   18  29  p  compact\n",
       "2 audi         a4    1.8   1999 4   manual(m5) f   21  29  p  compact\n",
       "3 audi         a4    2.0   2008 4   manual(m6) f   20  31  p  compact\n",
       "4 audi         a4    2.0   2008 4   auto(av)   f   21  30  p  compact\n",
       "5 audi         a4    2.8   1999 6   auto(l5)   f   16  26  p  compact\n",
       "6 audi         a4    2.8   1999 6   manual(m5) f   18  26  p  compact"
      ]
     },
     "metadata": {},
     "output_type": "display_data"
    }
   ],
   "source": [
    "head(mpg)"
   ]
  },
  {
   "cell_type": "markdown",
   "id": "2ffc5439-6094-41cb-b3f2-ca7978725afa",
   "metadata": {},
   "source": [
    "### Criação de um `ggplot`"
   ]
  },
  {
   "cell_type": "code",
   "execution_count": 3,
   "id": "a3fbb3b4-290a-4de9-b8d4-2bdcc285b9ba",
   "metadata": {},
   "outputs": [
    {
     "data": {
      "image/png": "[encoded data removed]",
      "text/plain": [
       "plot without title"
      ]
     },
     "metadata": {
      "image/png": {
       "height": 420,
       "width": 420
      }
     },
     "output_type": "display_data"
    }
   ],
   "source": [
    "ggplot(data=mpg) +\n",
    "    geom_point(mapping = aes(x = displ, y = hwy))"
   ]
  },
  {
   "cell_type": "markdown",
   "id": "33e84c65-fa7f-4c5b-9fe4-ce3ca68d19ba",
   "metadata": {},
   "source": [
    "### Exercícios"
   ]
  },
  {
   "cell_type": "markdown",
   "id": "36e587f6-ff2c-4260-af14-79a2e4812e97",
   "metadata": {},
   "source": [
    "1. Corra `ggplot(data = mpg)`. O que você vê?"
   ]
  },
  {
   "cell_type": "code",
   "execution_count": 4,
   "id": "b5547e9f-9a6e-4d6b-9e82-778a768b2eba",
   "metadata": {},
   "outputs": [
    {
     "data": {
      "image/png": "[encoded data removed]",
      "text/plain": [
       "plot without title"
      ]
     },
     "metadata": {
      "image/png": {
       "height": 420,
       "width": 420
      }
     },
     "output_type": "display_data"
    }
   ],
   "source": [
    "ggplot(data = mpg)"
   ]
  },
  {
   "cell_type": "markdown",
   "id": "9790abab-0871-4177-bc1f-e880d5b43efc",
   "metadata": {},
   "source": [
    "Resulta em uma tela em branco."
   ]
  },
  {
   "cell_type": "markdown",
   "id": "af3f4f1e-e329-47e9-8d2f-d358c2c9ab5a",
   "metadata": {},
   "source": [
    "2. Quantas linhas existem `mpg`? Quantas colunas?"
   ]
  },
  {
   "cell_type": "code",
   "execution_count": 6,
   "id": "0bb04414-8795-4141-97f9-89c196552b96",
   "metadata": {},
   "outputs": [
    {
     "data": {
      "text/html": [
       "<style>\n",
       ".list-inline {list-style: none; margin:0; padding: 0}\n",
       ".list-inline>li {display: inline-block}\n",
       ".list-inline>li:not(:last-child)::after {content: \"\\00b7\"; padding: 0 .5ex}\n",
       "</style>\n",
       "<ol class=list-inline><li>234</li><li>11</li></ol>\n"
      ],
      "text/latex": [
       "\\begin{enumerate*}\n",
       "\\item 234\n",
       "\\item 11\n",
       "\\end{enumerate*}\n"
      ],
      "text/markdown": [
       "1. 234\n",
       "2. 11\n",
       "\n",
       "\n"
      ],
      "text/plain": [
       "[1] 234  11"
      ]
     },
     "metadata": {},
     "output_type": "display_data"
    }
   ],
   "source": [
    "dim(mpg)"
   ]
  },
  {
   "cell_type": "markdown",
   "id": "46e02d41-a85a-45da-8505-868624facf5d",
   "metadata": {},
   "source": [
    "O _dataframe_ `mpg` possui 234 linhas e 11 colunas."
   ]
  },
  {
   "cell_type": "markdown",
   "id": "de38a98d-764a-4463-8d19-cf39d4a11305",
   "metadata": {},
   "source": [
    "3. O que a `drv` variável descreve? Leia a ajuda de `mpg` para descobrir."
   ]
  },
  {
   "cell_type": "code",
   "execution_count": 13,
   "id": "70a4fc3d-f7cf-4ec0-bf07-77abd91b97de",
   "metadata": {},
   "outputs": [
    {
     "data": {
      "text/plain": [
       "R Help on ‘mpg’\n",
       "\n",
       "mpg                  package:ggplot2                   R Documentation\n",
       "\n",
       "_\bF_\bu_\be_\bl _\be_\bc_\bo_\bn_\bo_\bm_\by _\bd_\ba_\bt_\ba _\bf_\br_\bo_\bm _\b1_\b9_\b9_\b9 _\bt_\bo _\b2_\b0_\b0_\b8 _\bf_\bo_\br _\b3_\b8 _\bp_\bo_\bp_\bu_\bl_\ba_\br _\bm_\bo_\bd_\be_\bl_\bs _\bo_\bf _\bc_\ba_\br_\bs\n",
       "\n",
       "_\bD_\be_\bs_\bc_\br_\bi_\bp_\bt_\bi_\bo_\bn:\n",
       "\n",
       "     This dataset contains a subset of the fuel economy data that the\n",
       "     EPA makes available on <URL: https://fueleconomy.gov/>. It\n",
       "     contains only models which had a new release every year between\n",
       "     1999 and 2008 - this was used as a proxy for the popularity of the\n",
       "     car.\n",
       "\n",
       "_\bU_\bs_\ba_\bg_\be:\n",
       "\n",
       "     mpg\n",
       "     \n",
       "_\bF_\bo_\br_\bm_\ba_\bt:\n",
       "\n",
       "     A data frame with 234 rows and 11 variables:\n",
       "\n",
       "     manufacturer manufacturer name\n",
       "\n",
       "     model model name\n",
       "\n",
       "     displ engine displacement, in litres\n",
       "\n",
       "     year year of manufacture\n",
       "\n",
       "     cyl number of cylinders\n",
       "\n",
       "     trans type of transmission\n",
       "\n",
       "     drv the type of drive train, where f = front-wheel drive, r = rear\n",
       "          wheel drive, 4 = 4wd\n",
       "\n",
       "     cty city miles per gallon\n",
       "\n",
       "     hwy highway miles per gallon\n",
       "\n",
       "     fl fuel type\n",
       "\n",
       "     class \"type\" of car\n"
      ]
     },
     "metadata": {},
     "output_type": "display_data"
    }
   ],
   "source": [
    "print(help(mpg))"
   ]
  },
  {
   "cell_type": "markdown",
   "id": "4d28ea11-8aa0-440c-a665-4f3375b74d38",
   "metadata": {},
   "source": [
    "A variável `drv` descreve o tipo de tração:\n",
    "\n",
    "* f = tração dianteira\n",
    "* r = tração traseira\n",
    "* 4 = tração nas quatro rodas"
   ]
  },
  {
   "cell_type": "markdown",
   "id": "d9a2a523-0b26-4f0f-a5d1-53970f326c78",
   "metadata": {},
   "source": [
    "4. Faça um gráfico de dispersão da `hwy` vs `cyl`."
   ]
  },
  {
   "cell_type": "code",
   "execution_count": 14,
   "id": "91fbe207-633b-4b82-a5e9-1104c8e893f3",
   "metadata": {},
   "outputs": [
    {
     "data": {
      "image/png": "[encoded data removed]",
      "text/plain": [
       "plot without title"
      ]
     },
     "metadata": {
      "image/png": {
       "height": 420,
       "width": 420
      }
     },
     "output_type": "display_data"
    }
   ],
   "source": [
    "ggplot(data = mpg) +\n",
    "    geom_point(mapping = aes(x = hwy, y = cyl))"
   ]
  },
  {
   "cell_type": "markdown",
   "id": "4ce895e0-ca33-4015-ad25-68873f239b58",
   "metadata": {},
   "source": [
    "5. O que acontece se você fizer um gráfico de dispersão de `class` vs `drv`? Por que o enredo não é útil?"
   ]
  },
  {
   "cell_type": "code",
   "execution_count": 15,
   "id": "99d05407-8bc0-4624-ae32-a807f035b8ce",
   "metadata": {},
   "outputs": [
    {
     "data": {
      "image/png": "[encoded data removed]",
      "text/plain": [
       "plot without title"
      ]
     },
     "metadata": {
      "image/png": {
       "height": 420,
       "width": 420
      }
     },
     "output_type": "display_data"
    }
   ],
   "source": [
    "ggplot(data = mpg) +\n",
    "    geom_point(mapping = aes(x = class, y = drv))"
   ]
  },
  {
   "cell_type": "markdown",
   "id": "4e1ec9b1-6efc-45da-b055-127ba745c442",
   "metadata": {},
   "source": [
    "Os dados estão muito concentrados."
   ]
  },
  {
   "cell_type": "code",
   "execution_count": null,
   "id": "dba3fc59-c704-45cf-a004-2d253afc4896",
   "metadata": {},
   "outputs": [],
   "source": []
  }
 ],
 "metadata": {
  "kernelspec": {
   "display_name": "R",
   "language": "R",
   "name": "ir"
  },
  "language_info": {
   "codemirror_mode": "r",
   "file_extension": ".r",
   "mimetype": "text/x-r-source",
   "name": "R",
   "pygments_lexer": "r",
   "version": "4.1.2"
  }
 },
 "nbformat": 4,
 "nbformat_minor": 5
}
