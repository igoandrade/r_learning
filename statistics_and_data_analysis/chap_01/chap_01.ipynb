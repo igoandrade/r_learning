{
 "cells": [
  {
   "cell_type": "markdown",
   "id": "03bdf6eb-f4ff-43b5-ab4f-7e11c4452990",
   "metadata": {},
   "source": [
    "# Introduction and Framework"
   ]
  },
  {
   "cell_type": "code",
   "execution_count": null,
   "id": "1c2da294-9b44-4b34-a895-090e71bdca97",
   "metadata": {},
   "outputs": [],
   "source": []
  }
 ],
 "metadata": {
  "kernelspec": {
   "display_name": "R",
   "language": "R",
   "name": "ir"
  },
  "language_info": {
   "codemirror_mode": "r",
   "file_extension": ".r",
   "mimetype": "text/x-r-source",
   "name": "R",
   "pygments_lexer": "r",
   "version": "4.1.2"
  }
 },
 "nbformat": 4,
 "nbformat_minor": 5
}
