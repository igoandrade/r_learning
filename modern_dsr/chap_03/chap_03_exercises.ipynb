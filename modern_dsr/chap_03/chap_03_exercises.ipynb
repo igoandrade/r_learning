{
 "cells": [
  {
   "cell_type": "markdown",
   "id": "96819f71-e3aa-42e0-ae24-abe523098577",
   "metadata": {},
   "source": [
    "# Exercises"
   ]
  },
  {
   "cell_type": "markdown",
   "id": "e5ea727a-7e53-4b2c-8887-6730799dc57c",
   "metadata": {},
   "source": [
    "## Exercise 3.1"
   ]
  },
  {
   "cell_type": "markdown",
   "id": "a33cfab3-370f-4e5d-aa7a-86a51c33543f",
   "metadata": {},
   "source": [
    "Using the famous `Galton` data set from the `mosaicData` package:"
   ]
  },
  {
   "cell_type": "markdown",
   "id": "fb501501-5ccc-43b8-9a9c-9e38dd59763b",
   "metadata": {},
   "source": [
    "1. Create a scatterplot of each person's height agaist their father's height."
   ]
  },
  {
   "cell_type": "code",
   "execution_count": null,
   "id": "e0072b88-1300-4e86-82ca-d3ce47de015d",
   "metadata": {},
   "outputs": [],
   "source": [
    "install.packages(\"mosaic\")"
   ]
  },
  {
   "cell_type": "code",
   "execution_count": 2,
   "id": "166b2ccb-ab21-4730-9da2-496423e903e0",
   "metadata": {},
   "outputs": [
    {
     "ename": "ERROR",
     "evalue": "Error in library(mosaic): there is no package called ‘mosaic’\n",
     "output_type": "error",
     "traceback": [
      "Error in library(mosaic): there is no package called ‘mosaic’\nTraceback:\n",
      "1. library(mosaic)"
     ]
    }
   ],
   "source": [
    "library(mosaic)"
   ]
  },
  {
   "cell_type": "code",
   "execution_count": null,
   "id": "c705a9e3-183a-4762-b0eb-86f3b306d850",
   "metadata": {},
   "outputs": [],
   "source": [
    "library)"
   ]
  }
 ],
 "metadata": {
  "kernelspec": {
   "display_name": "R",
   "language": "R",
   "name": "ir"
  },
  "language_info": {
   "codemirror_mode": "r",
   "file_extension": ".r",
   "mimetype": "text/x-r-source",
   "name": "R",
   "pygments_lexer": "r",
   "version": "4.1.1"
  }
 },
 "nbformat": 4,
 "nbformat_minor": 5
}
